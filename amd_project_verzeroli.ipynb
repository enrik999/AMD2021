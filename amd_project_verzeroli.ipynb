{
  "nbformat": 4,
  "nbformat_minor": 0,
  "metadata": {
    "colab": {
      "name": "AMD-PROJECT.ipynb",
      "provenance": [],
      "collapsed_sections": []
    },
    "kernelspec": {
      "name": "python3",
      "display_name": "Python 3"
    },
    "language_info": {
      "name": "python"
    }
  },
  "cells": [
    {
      "cell_type": "code",
      "metadata": {
        "id": "F7cHBqj8oVQC"
      },
      "source": [
        "from google.colab import files\n",
        "files.upload()"
      ],
      "execution_count": null,
      "outputs": []
    },
    {
      "cell_type": "code",
      "metadata": {
        "colab": {
          "base_uri": "https://localhost:8080/"
        },
        "id": "HvVKh0CvGbPC",
        "outputId": "ae5bfc66-12a5-4298-c488-7d1d091bd3b7"
      },
      "source": [
        "!pip install -q kaggle\n",
        "!mkdir -p ~/.kaggle\n",
        "!cp kaggle.json ~/.kaggle/\n",
        "!ls ~/.kaggle\n",
        "!chmod 600 /root/.kaggle/kaggle.json"
      ],
      "execution_count": null,
      "outputs": [
        {
          "output_type": "stream",
          "text": [
            "kaggle.json\n"
          ],
          "name": "stdout"
        }
      ]
    },
    {
      "cell_type": "code",
      "metadata": {
        "colab": {
          "base_uri": "https://localhost:8080/"
        },
        "id": "wdNL605HqYY1",
        "outputId": "57c05152-e32a-43c7-8b6b-be104d3c6414"
      },
      "source": [
        "!kaggle datasets download ashirwadsangwan/imdb-dataset"
      ],
      "execution_count": null,
      "outputs": [
        {
          "output_type": "stream",
          "text": [
            "Downloading imdb-dataset.zip to /content\n",
            " 99% 1.42G/1.44G [00:12<00:00, 117MB/s]\n",
            "100% 1.44G/1.44G [00:12<00:00, 125MB/s]\n"
          ],
          "name": "stdout"
        }
      ]
    },
    {
      "cell_type": "code",
      "metadata": {
        "id": "akxOt8I0qb9X"
      },
      "source": [
        "import zipfile\n",
        "\n",
        "path = 'imdb-dataset.zip'\n",
        "zip_file = zipfile.ZipFile(path)\n",
        "zip_list = zip_file.namelist()\n",
        "\n",
        "for f in zip_list:\n",
        "    zip_file.extract(f)\n",
        "\n",
        "zip_file.close()"
      ],
      "execution_count": null,
      "outputs": []
    },
    {
      "cell_type": "code",
      "metadata": {
        "colab": {
          "base_uri": "https://localhost:8080/"
        },
        "id": "VsruX0gRr4qy",
        "outputId": "5a1f8ba1-ec20-47cf-9fe7-df665a1042b1"
      },
      "source": [
        "!pip install pyspark\n",
        "from pyspark import SparkConf, SparkContext\n",
        "from pyspark.sql import SparkSession\n",
        "import matplotlib.pyplot as plt"
      ],
      "execution_count": null,
      "outputs": [
        {
          "output_type": "stream",
          "text": [
            "Collecting pyspark\n",
            "  Downloading pyspark-3.1.2.tar.gz (212.4 MB)\n",
            "\u001b[K     |████████████████████████████████| 212.4 MB 61 kB/s \n",
            "\u001b[?25hCollecting py4j==0.10.9\n",
            "  Downloading py4j-0.10.9-py2.py3-none-any.whl (198 kB)\n",
            "\u001b[K     |████████████████████████████████| 198 kB 39.6 MB/s \n",
            "\u001b[?25hBuilding wheels for collected packages: pyspark\n",
            "  Building wheel for pyspark (setup.py) ... \u001b[?25l\u001b[?25hdone\n",
            "  Created wheel for pyspark: filename=pyspark-3.1.2-py2.py3-none-any.whl size=212880768 sha256=758d64acd67c5a0d0ee48878a50bed53b5c42c9112280a8fa2f51058c8acde06\n",
            "  Stored in directory: /root/.cache/pip/wheels/a5/0a/c1/9561f6fecb759579a7d863dcd846daaa95f598744e71b02c77\n",
            "Successfully built pyspark\n",
            "Installing collected packages: py4j, pyspark\n",
            "Successfully installed py4j-0.10.9 pyspark-3.1.2\n"
          ],
          "name": "stdout"
        }
      ]
    },
    {
      "cell_type": "code",
      "metadata": {
        "id": "JKmAPz011-x7"
      },
      "source": [
        "spark = SparkSession.builder.enableHiveSupport().getOrCreate() "
      ],
      "execution_count": null,
      "outputs": []
    },
    {
      "cell_type": "code",
      "metadata": {
        "id": "5Ej7ckJB2NKd"
      },
      "source": [
        "name_basics = spark.read.option(\"sep\", \"\\t\").csv('./name.basics.tsv/name.basics.tsv', header=True)\n",
        "title_akas = spark.read.option(\"sep\", \"\\t\").csv('./title.akas.tsv/title.akas.tsv', header=True)\n",
        "title_basics = spark.read.option(\"sep\", \"\\t\").csv('./title.basics.tsv/title.basics.tsv', header=True)\n",
        "title_principals = spark.read.option(\"sep\", \"\\t\").csv('./title.principals.tsv/title.principals.tsv', header=True)\n",
        "title_rating = spark.read.option(\"sep\", \"\\t\").csv('./title.ratings.tsv/title.ratings.tsv', header=True)"
      ],
      "execution_count": null,
      "outputs": []
    },
    {
      "cell_type": "code",
      "metadata": {
        "colab": {
          "base_uri": "https://localhost:8080/"
        },
        "id": "glDHJZoJHv0V",
        "outputId": "9892978a-8e27-466e-de98-76568e7f790a"
      },
      "source": [
        "print(name_basics.rdd.getNumPartitions())\n",
        "print(title_akas.rdd.getNumPartitions())\n",
        "print(title_basics.rdd.getNumPartitions())\n",
        "print(title_principals.rdd.getNumPartitions())\n",
        "print(title_rating.rdd.getNumPartitions())"
      ],
      "execution_count": null,
      "outputs": [
        {
          "output_type": "stream",
          "text": [
            "5\n",
            "8\n",
            "5\n",
            "13\n",
            "2\n"
          ],
          "name": "stdout"
        }
      ]
    },
    {
      "cell_type": "code",
      "metadata": {
        "colab": {
          "base_uri": "https://localhost:8080/"
        },
        "id": "GP9dltILKcgT",
        "outputId": "77b8cfab-c59b-4d47-9e8a-ea79f464ca54"
      },
      "source": [
        "!lscpu "
      ],
      "execution_count": null,
      "outputs": [
        {
          "output_type": "stream",
          "text": [
            "Architecture:        x86_64\n",
            "CPU op-mode(s):      32-bit, 64-bit\n",
            "Byte Order:          Little Endian\n",
            "CPU(s):              2\n",
            "On-line CPU(s) list: 0,1\n",
            "Thread(s) per core:  2\n",
            "Core(s) per socket:  1\n",
            "Socket(s):           1\n",
            "NUMA node(s):        1\n",
            "Vendor ID:           GenuineIntel\n",
            "CPU family:          6\n",
            "Model:               63\n",
            "Model name:          Intel(R) Xeon(R) CPU @ 2.30GHz\n",
            "Stepping:            0\n",
            "CPU MHz:             2299.998\n",
            "BogoMIPS:            4599.99\n",
            "Hypervisor vendor:   KVM\n",
            "Virtualization type: full\n",
            "L1d cache:           32K\n",
            "L1i cache:           32K\n",
            "L2 cache:            256K\n",
            "L3 cache:            46080K\n",
            "NUMA node0 CPU(s):   0,1\n",
            "Flags:               fpu vme de pse tsc msr pae mce cx8 apic sep mtrr pge mca cmov pat pse36 clflush mmx fxsr sse sse2 ss ht syscall nx pdpe1gb rdtscp lm constant_tsc rep_good nopl xtopology nonstop_tsc cpuid tsc_known_freq pni pclmulqdq ssse3 fma cx16 pcid sse4_1 sse4_2 x2apic movbe popcnt aes xsave avx f16c rdrand hypervisor lahf_lm abm invpcid_single ssbd ibrs ibpb stibp fsgsbase tsc_adjust bmi1 avx2 smep bmi2 erms invpcid xsaveopt arat md_clear arch_capabilities\n"
          ],
          "name": "stdout"
        }
      ]
    },
    {
      "cell_type": "code",
      "metadata": {
        "id": "NXVQpGxMT-1W"
      },
      "source": [
        "name_basics = name_basics.repartition(2)\n",
        "title_akas = title_akas.repartition(2)\n",
        "title_basics = title_basics.repartition(2)\n",
        "title_principals = title_principals.repartition(2)\n",
        "title_rating = title_rating.repartition(2)"
      ],
      "execution_count": null,
      "outputs": []
    },
    {
      "cell_type": "code",
      "metadata": {
        "id": "FByk-p_yrBze",
        "colab": {
          "base_uri": "https://localhost:8080/"
        },
        "outputId": "fa1ea998-4541-4614-8a3a-ec746aa93108"
      },
      "source": [
        "title_akas.show(5)"
      ],
      "execution_count": null,
      "outputs": [
        {
          "output_type": "stream",
          "text": [
            "+---------+--------+--------------------+------+--------+-----------+----------+---------------+\n",
            "|  titleId|ordering|               title|region|language|      types|attributes|isOriginalTitle|\n",
            "+---------+--------+--------------------+------+--------+-----------+----------+---------------+\n",
            "|tt0000001|       1|Carmencita - span...|    HU|      \\N|imdbDisplay|        \\N|              0|\n",
            "|tt0000001|       2|          Καρμενσίτα|    GR|      \\N|         \\N|        \\N|              0|\n",
            "|tt0000001|       3|          Карменсита|    RU|      \\N|         \\N|        \\N|              0|\n",
            "|tt0000001|       4|          Carmencita|    US|      \\N|         \\N|        \\N|              0|\n",
            "|tt0000001|       5|          Carmencita|    \\N|      \\N|   original|        \\N|              1|\n",
            "+---------+--------+--------------------+------+--------+-----------+----------+---------------+\n",
            "only showing top 5 rows\n",
            "\n"
          ],
          "name": "stdout"
        }
      ]
    },
    {
      "cell_type": "code",
      "metadata": {
        "colab": {
          "base_uri": "https://localhost:8080/"
        },
        "id": "GphYLMvpaK8q",
        "outputId": "816306d4-5aae-4380-bf16-b49d94f3ac84"
      },
      "source": [
        "title_basics.show(5)"
      ],
      "execution_count": null,
      "outputs": [
        {
          "output_type": "stream",
          "text": [
            "+---------+---------+--------------------+--------------------+-------+---------+-------+--------------+--------------------+\n",
            "|   tconst|titleType|        primaryTitle|       originalTitle|isAdult|startYear|endYear|runtimeMinutes|              genres|\n",
            "+---------+---------+--------------------+--------------------+-------+---------+-------+--------------+--------------------+\n",
            "|tt0000001|    short|          Carmencita|          Carmencita|      0|     1894|     \\N|             1|   Documentary,Short|\n",
            "|tt0000002|    short|Le clown et ses c...|Le clown et ses c...|      0|     1892|     \\N|             5|     Animation,Short|\n",
            "|tt0000003|    short|      Pauvre Pierrot|      Pauvre Pierrot|      0|     1892|     \\N|             4|Animation,Comedy,...|\n",
            "|tt0000004|    short|         Un bon bock|         Un bon bock|      0|     1892|     \\N|            \\N|     Animation,Short|\n",
            "|tt0000005|    short|    Blacksmith Scene|    Blacksmith Scene|      0|     1893|     \\N|             1|        Comedy,Short|\n",
            "+---------+---------+--------------------+--------------------+-------+---------+-------+--------------+--------------------+\n",
            "only showing top 5 rows\n",
            "\n"
          ],
          "name": "stdout"
        }
      ]
    },
    {
      "cell_type": "code",
      "metadata": {
        "colab": {
          "base_uri": "https://localhost:8080/"
        },
        "id": "GlmDXHcJaOy1",
        "outputId": "4d82a563-f980-478d-c1b8-97dfe4d1e36d"
      },
      "source": [
        "title_principals.show(5) "
      ],
      "execution_count": null,
      "outputs": [
        {
          "output_type": "stream",
          "text": [
            "+---------+--------+---------+---------------+--------------------+-----------+\n",
            "|   tconst|ordering|   nconst|       category|                 job| characters|\n",
            "+---------+--------+---------+---------------+--------------------+-----------+\n",
            "|tt0000001|       1|nm1588970|           self|                  \\N|[\"Herself\"]|\n",
            "|tt0000001|       2|nm0005690|       director|                  \\N|         \\N|\n",
            "|tt0000001|       3|nm0374658|cinematographer|director of photo...|         \\N|\n",
            "|tt0000002|       1|nm0721526|       director|                  \\N|         \\N|\n",
            "|tt0000002|       2|nm1335271|       composer|                  \\N|         \\N|\n",
            "+---------+--------+---------+---------------+--------------------+-----------+\n",
            "only showing top 5 rows\n",
            "\n"
          ],
          "name": "stdout"
        }
      ]
    },
    {
      "cell_type": "code",
      "metadata": {
        "colab": {
          "base_uri": "https://localhost:8080/"
        },
        "id": "rYSTl3A4aRfQ",
        "outputId": "d1a4c35b-5dbe-41e4-c331-ecb8aa6c383d"
      },
      "source": [
        "title_rating.show(5)"
      ],
      "execution_count": null,
      "outputs": [
        {
          "output_type": "stream",
          "text": [
            "+---------+-------------+--------+\n",
            "|   tconst|averageRating|numVotes|\n",
            "+---------+-------------+--------+\n",
            "|tt0000001|          5.6|    1550|\n",
            "|tt0000002|          6.1|     186|\n",
            "|tt0000003|          6.5|    1207|\n",
            "|tt0000004|          6.2|     113|\n",
            "|tt0000005|          6.1|    1934|\n",
            "+---------+-------------+--------+\n",
            "only showing top 5 rows\n",
            "\n"
          ],
          "name": "stdout"
        }
      ]
    },
    {
      "cell_type": "code",
      "metadata": {
        "colab": {
          "base_uri": "https://localhost:8080/"
        },
        "id": "gABHomJ7aWzn",
        "outputId": "f38207c5-a52b-45b3-de41-a1a806d28d5b"
      },
      "source": [
        "title_principals.count(), title_basics.count(), name_basics.count()"
      ],
      "execution_count": null,
      "outputs": [
        {
          "output_type": "execute_result",
          "data": {
            "text/plain": [
              "(36468817, 6321302, 9706922)"
            ]
          },
          "metadata": {
            "tags": []
          },
          "execution_count": 15
        }
      ]
    },
    {
      "cell_type": "code",
      "metadata": {
        "id": "kRpXTUo_i1xH"
      },
      "source": [
        "title_akas.createOrReplaceTempView(\"title_akas\")\n",
        "title_basics.createOrReplaceTempView(\"title_basics\")\n",
        "title_principals.createOrReplaceTempView(\"title_principals\")\n",
        "title_rating.createOrReplaceTempView(\"title_ratings\")\n",
        "name_basics.createOrReplaceTempView(\"name_basics\")"
      ],
      "execution_count": null,
      "outputs": []
    },
    {
      "cell_type": "code",
      "metadata": {
        "colab": {
          "base_uri": "https://localhost:8080/"
        },
        "id": "aGjh_CfDxVc1",
        "outputId": "6232c1c6-47f3-4eea-d8bc-f5ae6dcd19f0"
      },
      "source": [
        "\n",
        "query = \"\"\"select tconst, nconst, job, category \n",
        "  from title_principals\n",
        "  where (job like '%act%') or\n",
        "  (category like '%act%') ;\"\"\"\n",
        "\n",
        "correspondence_film_actor = spark.sql(query)\n",
        "correspondence_film_actor.show(10)\n",
        "\n",
        "\n",
        "query = \"\"\"select count(nconst) as number_of_unique_correspondences\n",
        "  from title_principals\n",
        "  where   (category like '%act%') or\n",
        "  (job like '%act%') ;\"\"\"\n",
        "\n",
        "res = spark.sql(query)\n",
        "res.show(1)\n"
      ],
      "execution_count": null,
      "outputs": [
        {
          "output_type": "stream",
          "text": [
            "+---------+---------+---+--------+\n",
            "|   tconst|   nconst|job|category|\n",
            "+---------+---------+---+--------+\n",
            "|tt0101343|nm0588679| \\N|   actor|\n",
            "|tt0366055|nm0005172| \\N|   actor|\n",
            "|tt0206490|nm0006893| \\N|   actor|\n",
            "|tt0443944|nm1822764| \\N| actress|\n",
            "|tt0105549|nm0389687| \\N| actress|\n",
            "|tt0048499|nm0597985| \\N| actress|\n",
            "|tt0104436|nm0675616| \\N|   actor|\n",
            "|tt0208293|nm0104770| \\N|   actor|\n",
            "|tt0203429|nm0691932| \\N|   actor|\n",
            "|tt0174577|nm0153862| \\N| actress|\n",
            "+---------+---------+---+--------+\n",
            "only showing top 10 rows\n",
            "\n",
            "+--------------------------------+\n",
            "|number_of_unique_correspondences|\n",
            "+--------------------------------+\n",
            "|                        14849990|\n",
            "+--------------------------------+\n",
            "\n"
          ],
          "name": "stdout"
        }
      ]
    },
    {
      "cell_type": "code",
      "metadata": {
        "colab": {
          "base_uri": "https://localhost:8080/"
        },
        "id": "aFmUPmUhd_qU",
        "outputId": "16473439-4c61-42ac-cc00-40f21da1bc3e"
      },
      "source": [
        "query = \"\"\"select  nconst, primaryname, primaryProfession \n",
        "  from name_basics\n",
        "    where (primaryProfession like '%act%');\"\"\"\n",
        "\n",
        "actors_names = spark.sql(query)\n",
        "actors_names.show(10)\n",
        "\n",
        "\n",
        "query = \"\"\"select count(nconst) as number_of_actors\n",
        "  from name_basics\n",
        "    where (primaryProfession like '%act%');\"\"\"\n",
        "\n",
        "res1 = spark.sql(query)\n",
        "res1.show(1)\n"
      ],
      "execution_count": null,
      "outputs": [
        {
          "output_type": "stream",
          "text": [
            "+---------+--------------+-----------------+\n",
            "|   nconst|   primaryname|primaryProfession|\n",
            "+---------+--------------+-----------------+\n",
            "|nm0502084|   Dora Lennox|          actress|\n",
            "|nm0265903|Pernille Falck|          actress|\n",
            "|nm1157162|   Tommy Smite|            actor|\n",
            "|nm0192526|Vincenzo Cuomo|            actor|\n",
            "|nm0764438| Estrella Sanz|          actress|\n",
            "|nm1031849| Anna Pantzeli|   actress,writer|\n",
            "|nm0567640|  Amy McDonald|          actress|\n",
            "|nm0098007|    Jim Bosley|            actor|\n",
            "|nm0066843|   Fanny Behak|          actress|\n",
            "|nm1000872|Saori Fujimoto|          actress|\n",
            "+---------+--------------+-----------------+\n",
            "only showing top 10 rows\n",
            "\n",
            "+----------------+\n",
            "|number_of_actors|\n",
            "+----------------+\n",
            "|         3624970|\n",
            "+----------------+\n",
            "\n"
          ],
          "name": "stdout"
        }
      ]
    },
    {
      "cell_type": "markdown",
      "metadata": {
        "id": "S2VwHN8GmE_Z"
      },
      "source": [
        "\n",
        "A crew member can be \"known for\" a certain film for being a writer or soundtrack for example. It is not certainly known\n",
        "\n",
        "In order to keep the analysis as accurate as possible, only the table title_principals will be used to create baskets. name_basics will be useful in order to grant a name to the actors identifiers at the end of the analysis\n"
      ]
    },
    {
      "cell_type": "code",
      "metadata": {
        "id": "R-w0x9ZCQhXG",
        "colab": {
          "base_uri": "https://localhost:8080/"
        },
        "outputId": "ea825617-1e81-4b0d-96b3-767815b3b403"
      },
      "source": [
        "# now we need to join correspondence_film_actor with actors_names, the analysis\n",
        "# will be performed on the identifiers, names will be used to display final results\n",
        "\n",
        "correspondence_film_actor.createOrReplaceTempView(\"correspondence_film_actor\")\n",
        "\n",
        "actors_names.createOrReplaceTempView(\"actors_names\")\n",
        "\n",
        "\n",
        "query = \"\"\"select  L.tconst, L.nconst, R.primaryname \n",
        "  from correspondence_film_actor as L left join actors_names as R on L.nconst = R.nconst;\"\"\"\n",
        "\n",
        "correspondence_with_names = spark.sql(query)\n",
        "correspondence_with_names.show(10)\n",
        "\n",
        "correspondence_with_names.createOrReplaceTempView(\"correspondence_with_names\")\n",
        "\n",
        "\n",
        "query = \"\"\"select count(*) as number_of_actors\n",
        "  FROM correspondence_with_names;\"\"\"\n",
        "\n",
        "res1 = spark.sql(query)\n",
        "res1.show(1)\n"
      ],
      "execution_count": null,
      "outputs": [
        {
          "output_type": "stream",
          "text": [
            "+---------+---------+--------------+\n",
            "|   tconst|   nconst|   primaryname|\n",
            "+---------+---------+--------------+\n",
            "|tt0056906|nm0000086|Louis de Funès|\n",
            "|tt0058135|nm0000086|Louis de Funès|\n",
            "|tt0050260|nm0000086|Louis de Funès|\n",
            "|tt0052686|nm0000086|Louis de Funès|\n",
            "|tt0060475|nm0000086|Louis de Funès|\n",
            "|tt0074103|nm0000086|Louis de Funès|\n",
            "|tt0063674|nm0000086|Louis de Funès|\n",
            "|tt0046243|nm0000086|Louis de Funès|\n",
            "|tt0083109|nm0000086|Louis de Funès|\n",
            "|tt0335439|nm0000086|Louis de Funès|\n",
            "+---------+---------+--------------+\n",
            "only showing top 10 rows\n",
            "\n",
            "+----------------+\n",
            "|number_of_actors|\n",
            "+----------------+\n",
            "|        14849990|\n",
            "+----------------+\n",
            "\n"
          ],
          "name": "stdout"
        }
      ]
    },
    {
      "cell_type": "code",
      "metadata": {
        "colab": {
          "base_uri": "https://localhost:8080/",
          "height": 541
        },
        "id": "xog79H8UOdPk",
        "outputId": "dbd3e403-1d05-4b8d-e898-b23d374333b6"
      },
      "source": [
        "# GET BASKETS DIMENSIONS - EACH FILM IS A BASKET AND THE ACTORS IN IT ARE THE ITEMS\n",
        "import numpy as np\n",
        "import pandas as pd\n",
        "\n",
        "\n",
        "query = \"\"\"select tconst, count(nconst) as baskets_sizes from correspondence_film_actor group by tconst;;\"\"\"\n",
        "\n",
        "res = spark.sql(query)\n",
        "\n",
        "res.show(5)\n",
        "\n",
        "respandas = res.toPandas()\n",
        "\n",
        "\n",
        "setsizes = respandas[\"baskets_sizes\"].values\n",
        "\n",
        "print(\"max value: \", np.percentile(setsizes,100))\n",
        "print(\"75% percentile: \", np.percentile(setsizes,75))\n",
        "print(\"50% percentile: \", np.percentile(setsizes,50))\n",
        "print(\"25% percentile: \", np.percentile(setsizes,25))\n",
        "print(\"min value: \", np.percentile(setsizes,0))\n",
        "\n",
        "plt.title(\"distribution of basket dimensions\")\n",
        "plt.hist(setsizes, bins = 9)\n",
        "plt.show()"
      ],
      "execution_count": null,
      "outputs": [
        {
          "output_type": "stream",
          "text": [
            "+---------+-------------+\n",
            "|   tconst|baskets_sizes|\n",
            "+---------+-------------+\n",
            "|tt0170678|            5|\n",
            "|tt0345518|            5|\n",
            "|tt0259816|           10|\n",
            "|tt0230825|           10|\n",
            "|tt0098390|            4|\n",
            "+---------+-------------+\n",
            "only showing top 5 rows\n",
            "\n",
            "max value:  10.0\n",
            "75% percentile:  5.0\n",
            "50% percentile:  4.0\n",
            "25% percentile:  2.0\n",
            "min value:  1.0\n"
          ],
          "name": "stdout"
        },
        {
          "output_type": "display_data",
          "data": {
            "image/png": "[encoded data removed]",
            "text/plain": [
              "<Figure size 432x288 with 1 Axes>"
            ]
          },
          "metadata": {
            "tags": [],
            "needs_background": "light"
          }
        }
      ]
    },
    {
      "cell_type": "code",
      "metadata": {
        "colab": {
          "base_uri": "https://localhost:8080/"
        },
        "id": "ckSpJuefXVHh",
        "outputId": "fa17c985-85c8-4d5a-edc5-974af87d5b67"
      },
      "source": [
        "# create baskets\n",
        "\n",
        "from pyspark.sql.functions import collect_set\n",
        "\n",
        "baskets = correspondence_film_actor.groupBy('tconst').agg(collect_set('nconst').alias('items'))\n",
        "baskets.createOrReplaceTempView('baskets')\n",
        "\n",
        "baskets.show(10)"
      ],
      "execution_count": null,
      "outputs": [
        {
          "output_type": "stream",
          "text": [
            "+---------+--------------------+\n",
            "|   tconst|               items|\n",
            "+---------+--------------------+\n",
            "|tt0001170|[nm0161366, nm086...|\n",
            "|tt0001664|[nm0616729, nm080...|\n",
            "|tt0001732|[nm0532996, nm036...|\n",
            "|tt0001887|         [nm0681933]|\n",
            "|tt0002253|[nm0537556, nm052...|\n",
            "|tt0002473|[nm0537556, nm036...|\n",
            "|tt0002588|[nm0508592, nm003...|\n",
            "|tt0002591|[nm0029806, nm050...|\n",
            "|tt0002667|[nm0938059, nm016...|\n",
            "|tt0003043|[nm0069327, nm092...|\n",
            "+---------+--------------------+\n",
            "only showing top 10 rows\n",
            "\n"
          ],
          "name": "stdout"
        }
      ]
    },
    {
      "cell_type": "code",
      "metadata": {
        "colab": {
          "base_uri": "https://localhost:8080/"
        },
        "id": "w_oS_xvLVhj0",
        "outputId": "2ab461de-b97f-4bd8-8560-445a9da39de2"
      },
      "source": [
        "baskets.rdd.getNumPartitions()"
      ],
      "execution_count": null,
      "outputs": [
        {
          "output_type": "execute_result",
          "data": {
            "text/plain": [
              "200"
            ]
          },
          "metadata": {
            "tags": []
          },
          "execution_count": 16
        }
      ]
    },
    {
      "cell_type": "code",
      "metadata": {
        "id": "PVFSl1tmb0qP",
        "colab": {
          "base_uri": "https://localhost:8080/"
        },
        "outputId": "6ef9e764-4e45-4a8f-994c-d98575d2c197"
      },
      "source": [
        "# USING PARTITIONS = 10\n",
        "from pyspark.ml.fpm import FPGrowth\n",
        "import time\n",
        "\n",
        "\n",
        "start = time.time()\n",
        "\n",
        "\n",
        "fpGrowth = FPGrowth(itemsCol=\"items\", minSupport=0.00001, minConfidence=0, numPartitions = 10)\n",
        "model = fpGrowth.fit(baskets)\n",
        "\n",
        "finish = time.time()\n",
        "\n",
        "\n",
        "print(\"The algorithm takes \", (finish - start)/60, \" minutes to run \")"
      ],
      "execution_count": null,
      "outputs": [
        {
          "output_type": "stream",
          "text": [
            "The algorithm takes  9.160376751422882  minutes to run \n"
          ],
          "name": "stdout"
        }
      ]
    },
    {
      "cell_type": "code",
      "metadata": {
        "colab": {
          "base_uri": "https://localhost:8080/"
        },
        "id": "Q7L9QMF8YxXK",
        "outputId": "ea8d167b-fd36-464c-bd17-b0be0ae14fcb"
      },
      "source": [
        "# USING PARTITIONS = 200\n",
        "\n",
        "\n",
        "start = time.time()\n",
        "\n",
        "\n",
        "fpGrowth = FPGrowth(itemsCol=\"items\", minSupport=0.00001, minConfidence=0, numPartitions = 200)\n",
        "model = fpGrowth.fit(baskets)\n",
        "\n",
        "finish = time.time()\n",
        "\n",
        "\n",
        "print(\"The algorithm takes \", (finish - start)/60, \" minutes to run \")"
      ],
      "execution_count": null,
      "outputs": [
        {
          "output_type": "stream",
          "text": [
            "The algorithm takes  4.597138500213623  minutes to run \n"
          ],
          "name": "stdout"
        }
      ]
    },
    {
      "cell_type": "code",
      "metadata": {
        "colab": {
          "base_uri": "https://localhost:8080/"
        },
        "id": "04HGsgkBb46C",
        "outputId": "3705241e-e721-4835-edce-805cc734f073"
      },
      "source": [
        "# Display frequent itemsets.\n",
        "mostPopularItemInABasket = model.freqItemsets\n",
        "mostPopularItemInABasket.show(30),mostPopularItemInABasket.count()"
      ],
      "execution_count": null,
      "outputs": [
        {
          "output_type": "stream",
          "text": [
            "+--------------------+----+\n",
            "|               items|freq|\n",
            "+--------------------+----+\n",
            "|         [nm0834373]|  49|\n",
            "|         [nm0584206]|  44|\n",
            "|         [nm0561520]|  46|\n",
            "|         [nm0687443]|  91|\n",
            "|[nm0687443, nm000...|  37|\n",
            "|[nm0687443, nm000...|  37|\n",
            "|[nm0687443, nm036...|  37|\n",
            "|         [nm0475331]|  62|\n",
            "|         [nm0311071]|1801|\n",
            "|         [nm0257821]| 133|\n",
            "|         [nm1775306]| 168|\n",
            "|         [nm0932565]|  81|\n",
            "|[nm0932565, nm068...|  38|\n",
            "|         [nm0478439]|  37|\n",
            "|         [nm0230726]|  70|\n",
            "|         [nm0904293]|  38|\n",
            "|         [nm0302704]| 211|\n",
            "|[nm0302704, nm020...|  51|\n",
            "|         [nm1715437]| 236|\n",
            "|[nm1715437, nm257...| 234|\n",
            "|[nm1715437, nm257...| 234|\n",
            "|[nm1715437, nm257...| 234|\n",
            "|[nm1715437, nm257...| 234|\n",
            "|[nm1715437, nm257...| 234|\n",
            "|[nm1715437, nm257...| 234|\n",
            "|[nm1715437, nm257...| 234|\n",
            "|[nm1715437, nm257...| 234|\n",
            "|[nm1715437, nm049...| 234|\n",
            "|[nm1715437, nm116...| 234|\n",
            "|[nm1715437, nm116...| 234|\n",
            "+--------------------+----+\n",
            "only showing top 30 rows\n",
            "\n"
          ],
          "name": "stdout"
        },
        {
          "output_type": "execute_result",
          "data": {
            "text/plain": [
              "(None, 608253)"
            ]
          },
          "metadata": {
            "tags": []
          },
          "execution_count": 20
        }
      ]
    },
    {
      "cell_type": "code",
      "metadata": {
        "colab": {
          "base_uri": "https://localhost:8080/"
        },
        "id": "cLlrcJw9iKHM",
        "outputId": "a1e9043b-159c-4e58-99e5-eff0743acbff"
      },
      "source": [
        "# DISPLAY\n",
        "\n",
        "import pyspark.sql.functions as F\n",
        "from pyspark.sql.functions import col\n",
        "\n",
        "\n",
        "frequent_itemsets_names = ( mostPopularItemInABasket.limit(50)\n",
        "  .withColumn('id', F.monotonically_increasing_id())\n",
        "  .select(col('id'), F.explode('items').alias('items'), col('freq'))\n",
        "  .join(correspondence_with_names, col('nconst') == col('items'), 'inner')\n",
        "  .select(col('id'), col('primaryname').alias('items'), col('freq'))\n",
        "  .groupBy(col('id'), col('freq'))\n",
        "  .agg(F.collect_set('items').alias('items'))\n",
        "  .select(col('id'), col('items'), col('freq'))\n",
        "  .sort(col('id').asc())\n",
        ")\n",
        "\n",
        "frequent_itemsets_names.show(50)\n"
      ],
      "execution_count": null,
      "outputs": [
        {
          "output_type": "stream",
          "text": [
            "+---+--------------------+----+\n",
            "| id|               items|freq|\n",
            "+---+--------------------+----+\n",
            "|  0|   [Gail Strickland]|  49|\n",
            "|  1|[Sean Cameron Mic...|  44|\n",
            "|  2|     [Louella Maxam]|  46|\n",
            "|  3|     [Jack Plotnick]|  91|\n",
            "|  4|[Jack Plotnick, A...|  37|\n",
            "|  5|[Jess Harnell, Ja...|  37|\n",
            "|  6|[Jess Harnell, Ja...|  37|\n",
            "|  7|      [Nicolin Kunz]|  62|\n",
            "|  8|      [Tibor Gazdag]|1801|\n",
            "|  9|      [Bill Engvall]| 133|\n",
            "| 10|      [Loren Chance]| 168|\n",
            "| 11|      [Dave Willock]|  81|\n",
            "| 12|[John Pickard, Da...|  38|\n",
            "| 13|[Sebastian La Cause]|  37|\n",
            "| 14|       [Tijn Docter]|  70|\n",
            "| 15|      [Dragan Vujic]|  38|\n",
            "| 16|      [Gina Gallego]| 211|\n",
            "| 17|[Gina Gallego, La...|  51|\n",
            "| 18|      [Da-hye Jeong]| 236|\n",
            "| 19|[Da-hye Jeong, Se...| 234|\n",
            "| 20|[Bo-Hee Lee, Da-h...| 234|\n",
            "| 21|[Won-jong Lee, Da...| 234|\n",
            "| 22|[Won-jong Lee, Bo...| 234|\n",
            "| 23|[Hee-Jae Lee, Da-...| 234|\n",
            "| 24|[Bo-Hee Lee, Hee-...| 234|\n",
            "| 25|[Won-jong Lee, He...| 234|\n",
            "| 26|[Won-jong Lee, Bo...| 234|\n",
            "| 27|[Bo-Hee Lee, Da-h...| 234|\n",
            "| 28|[Won-jong Lee, Da...| 234|\n",
            "| 29|[Won-jong Lee, Bo...| 234|\n",
            "| 30|[Hee-Jae Lee, Da-...| 234|\n",
            "| 31|[Bo-Hee Lee, Hee-...| 234|\n",
            "| 32|[Won-jong Lee, He...| 234|\n",
            "| 33|[Won-jong Lee, Bo...| 234|\n",
            "| 34|[Eeva-Maija Hauki...| 108|\n",
            "| 35|     [Jason Douglas]| 434|\n",
            "| 36|[Jason Douglas, L...| 144|\n",
            "| 37|[Jason Douglas, G...|  87|\n",
            "| 38|[Jason Douglas, L...|  66|\n",
            "| 39|[Jason Douglas, T...|  45|\n",
            "| 40|[Jason Douglas, C...|  55|\n",
            "| 41|[Jason Douglas, M...|  55|\n",
            "| 42|[Jason Douglas, C...|  42|\n",
            "| 43|    [Lillian Hayman]|  55|\n",
            "| 44|[Ellen Holly, Lil...|  40|\n",
            "| 45|      [Matthew Gair]|  40|\n",
            "| 46|    [Mikhaïl Ahooja]|  42|\n",
            "| 47|     [Olegar Fedoro]|  68|\n",
            "| 48|[Louise de los Re...| 342|\n",
            "| 49|[Louise de los Re...| 123|\n",
            "+---+--------------------+----+\n",
            "\n"
          ],
          "name": "stdout"
        }
      ]
    }
  ]
}